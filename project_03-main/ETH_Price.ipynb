{
 "cells": [
  {
   "cell_type": "code",
   "execution_count": 1,
   "metadata": {},
   "outputs": [],
   "source": [
    "#Import the Python libraries\n",
    "from pandas_datareader import data as web\n",
    "import pandas as pd\n",
    "import numpy as np\n",
    "from datetime import datetime\n",
    "import matplotlib.pyplot as plt\n",
    "plt.style.use('fivethirtyeight')"
   ]
  },
  {
   "cell_type": "code",
   "execution_count": 10,
   "metadata": {},
   "outputs": [],
   "source": [
    "#Get the stock tickers\n",
    "tickers = [\"ETH-USD\", \"VOO\"]"
   ]
  },
  {
   "cell_type": "code",
   "execution_count": 11,
   "metadata": {},
   "outputs": [],
   "source": [
    "#Assign weights for stocks\n",
    "weights = np.array([0.50, 0.50])"
   ]
  },
  {
   "cell_type": "code",
   "execution_count": 12,
   "metadata": {},
   "outputs": [],
   "source": [
    "#Set portfolio start date\n",
    "stockStartDate = '2021-07-18'"
   ]
  },
  {
   "cell_type": "code",
   "execution_count": 13,
   "metadata": {},
   "outputs": [],
   "source": [
    "#Set portfolio end date\n",
    "today = datetime.today().strftime('%Y-%m-%d')"
   ]
  },
  {
   "cell_type": "code",
   "execution_count": 14,
   "metadata": {},
   "outputs": [],
   "source": [
    "#Dataframe to store adjusted close price of the stock\n",
    "stocks_df = pd.DataFrame()\n",
    "\n",
    "for stock in tickers:\n",
    "    stocks_df[stock] = web.DataReader(stock, data_source='yahoo', start= stockStartDate, end = today)['Adj Close']    \n"
   ]
  },
  {
   "cell_type": "code",
   "execution_count": 15,
   "metadata": {},
   "outputs": [
    {
     "data": {
      "text/html": [
       "<div>\n",
       "<style scoped>\n",
       "    .dataframe tbody tr th:only-of-type {\n",
       "        vertical-align: middle;\n",
       "    }\n",
       "\n",
       "    .dataframe tbody tr th {\n",
       "        vertical-align: top;\n",
       "    }\n",
       "\n",
       "    .dataframe thead th {\n",
       "        text-align: right;\n",
       "    }\n",
       "</style>\n",
       "<table border=\"1\" class=\"dataframe\">\n",
       "  <thead>\n",
       "    <tr style=\"text-align: right;\">\n",
       "      <th></th>\n",
       "      <th>ETH-USD</th>\n",
       "      <th>VOO</th>\n",
       "    </tr>\n",
       "    <tr>\n",
       "      <th>Date</th>\n",
       "      <th></th>\n",
       "      <th></th>\n",
       "    </tr>\n",
       "  </thead>\n",
       "  <tbody>\n",
       "    <tr>\n",
       "      <th>2021-07-18</th>\n",
       "      <td>1895.552124</td>\n",
       "      <td>NaN</td>\n",
       "    </tr>\n",
       "    <tr>\n",
       "      <th>2021-07-19</th>\n",
       "      <td>1817.296631</td>\n",
       "      <td>389.402924</td>\n",
       "    </tr>\n",
       "    <tr>\n",
       "      <th>2021-07-20</th>\n",
       "      <td>1787.510742</td>\n",
       "      <td>394.904907</td>\n",
       "    </tr>\n",
       "    <tr>\n",
       "      <th>2021-07-21</th>\n",
       "      <td>1990.970825</td>\n",
       "      <td>398.223999</td>\n",
       "    </tr>\n",
       "    <tr>\n",
       "      <th>2021-07-22</th>\n",
       "      <td>2025.202759</td>\n",
       "      <td>399.071228</td>\n",
       "    </tr>\n",
       "  </tbody>\n",
       "</table>\n",
       "</div>"
      ],
      "text/plain": [
       "                ETH-USD         VOO\n",
       "Date                               \n",
       "2021-07-18  1895.552124         NaN\n",
       "2021-07-19  1817.296631  389.402924\n",
       "2021-07-20  1787.510742  394.904907\n",
       "2021-07-21  1990.970825  398.223999\n",
       "2021-07-22  2025.202759  399.071228"
      ]
     },
     "execution_count": 15,
     "metadata": {},
     "output_type": "execute_result"
    }
   ],
   "source": [
    "#Review dataframe\n",
    "stocks_df.head()"
   ]
  },
  {
   "cell_type": "code",
   "execution_count": 16,
   "metadata": {},
   "outputs": [
    {
     "data": {
      "text/html": [
       "<div>\n",
       "<style scoped>\n",
       "    .dataframe tbody tr th:only-of-type {\n",
       "        vertical-align: middle;\n",
       "    }\n",
       "\n",
       "    .dataframe tbody tr th {\n",
       "        vertical-align: top;\n",
       "    }\n",
       "\n",
       "    .dataframe thead th {\n",
       "        text-align: right;\n",
       "    }\n",
       "</style>\n",
       "<table border=\"1\" class=\"dataframe\">\n",
       "  <thead>\n",
       "    <tr style=\"text-align: right;\">\n",
       "      <th></th>\n",
       "      <th>ETH-USD</th>\n",
       "      <th>VOO</th>\n",
       "    </tr>\n",
       "    <tr>\n",
       "      <th>Date</th>\n",
       "      <th></th>\n",
       "      <th></th>\n",
       "    </tr>\n",
       "  </thead>\n",
       "  <tbody>\n",
       "    <tr>\n",
       "      <th>2021-11-14</th>\n",
       "      <td>4626.358887</td>\n",
       "      <td>NaN</td>\n",
       "    </tr>\n",
       "    <tr>\n",
       "      <th>2021-11-15</th>\n",
       "      <td>4557.503906</td>\n",
       "      <td>429.769989</td>\n",
       "    </tr>\n",
       "    <tr>\n",
       "      <th>2021-11-16</th>\n",
       "      <td>4216.365234</td>\n",
       "      <td>431.410004</td>\n",
       "    </tr>\n",
       "    <tr>\n",
       "      <th>2021-11-17</th>\n",
       "      <td>4287.593750</td>\n",
       "      <td>430.369995</td>\n",
       "    </tr>\n",
       "    <tr>\n",
       "      <th>2021-11-19</th>\n",
       "      <td>4013.045654</td>\n",
       "      <td>NaN</td>\n",
       "    </tr>\n",
       "  </tbody>\n",
       "</table>\n",
       "</div>"
      ],
      "text/plain": [
       "                ETH-USD         VOO\n",
       "Date                               \n",
       "2021-11-14  4626.358887         NaN\n",
       "2021-11-15  4557.503906  429.769989\n",
       "2021-11-16  4216.365234  431.410004\n",
       "2021-11-17  4287.593750  430.369995\n",
       "2021-11-19  4013.045654         NaN"
      ]
     },
     "execution_count": 16,
     "metadata": {},
     "output_type": "execute_result"
    }
   ],
   "source": [
    "#Review dataframe\n",
    "stocks_df.tail()\n"
   ]
  },
  {
   "cell_type": "code",
   "execution_count": 17,
   "metadata": {},
   "outputs": [
    {
     "data": {
      "text/html": [
       "<div>\n",
       "<style scoped>\n",
       "    .dataframe tbody tr th:only-of-type {\n",
       "        vertical-align: middle;\n",
       "    }\n",
       "\n",
       "    .dataframe tbody tr th {\n",
       "        vertical-align: top;\n",
       "    }\n",
       "\n",
       "    .dataframe thead th {\n",
       "        text-align: right;\n",
       "    }\n",
       "</style>\n",
       "<table border=\"1\" class=\"dataframe\">\n",
       "  <thead>\n",
       "    <tr style=\"text-align: right;\">\n",
       "      <th></th>\n",
       "      <th>ETH-USD</th>\n",
       "      <th>VOO</th>\n",
       "    </tr>\n",
       "    <tr>\n",
       "      <th>Date</th>\n",
       "      <th></th>\n",
       "      <th></th>\n",
       "    </tr>\n",
       "  </thead>\n",
       "  <tbody>\n",
       "    <tr>\n",
       "      <th>2021-07-18</th>\n",
       "      <td>NaN</td>\n",
       "      <td>NaN</td>\n",
       "    </tr>\n",
       "    <tr>\n",
       "      <th>2021-07-19</th>\n",
       "      <td>-0.041284</td>\n",
       "      <td>NaN</td>\n",
       "    </tr>\n",
       "    <tr>\n",
       "      <th>2021-07-20</th>\n",
       "      <td>-0.016390</td>\n",
       "      <td>0.014129</td>\n",
       "    </tr>\n",
       "    <tr>\n",
       "      <th>2021-07-21</th>\n",
       "      <td>0.113823</td>\n",
       "      <td>0.008405</td>\n",
       "    </tr>\n",
       "    <tr>\n",
       "      <th>2021-07-22</th>\n",
       "      <td>0.017194</td>\n",
       "      <td>0.002128</td>\n",
       "    </tr>\n",
       "    <tr>\n",
       "      <th>...</th>\n",
       "      <td>...</td>\n",
       "      <td>...</td>\n",
       "    </tr>\n",
       "    <tr>\n",
       "      <th>2021-11-14</th>\n",
       "      <td>-0.005396</td>\n",
       "      <td>0.000000</td>\n",
       "    </tr>\n",
       "    <tr>\n",
       "      <th>2021-11-15</th>\n",
       "      <td>-0.014883</td>\n",
       "      <td>0.000466</td>\n",
       "    </tr>\n",
       "    <tr>\n",
       "      <th>2021-11-16</th>\n",
       "      <td>-0.074852</td>\n",
       "      <td>0.003816</td>\n",
       "    </tr>\n",
       "    <tr>\n",
       "      <th>2021-11-17</th>\n",
       "      <td>0.016893</td>\n",
       "      <td>-0.002411</td>\n",
       "    </tr>\n",
       "    <tr>\n",
       "      <th>2021-11-19</th>\n",
       "      <td>-0.064033</td>\n",
       "      <td>0.000000</td>\n",
       "    </tr>\n",
       "  </tbody>\n",
       "</table>\n",
       "<p>124 rows × 2 columns</p>\n",
       "</div>"
      ],
      "text/plain": [
       "             ETH-USD       VOO\n",
       "Date                          \n",
       "2021-07-18       NaN       NaN\n",
       "2021-07-19 -0.041284       NaN\n",
       "2021-07-20 -0.016390  0.014129\n",
       "2021-07-21  0.113823  0.008405\n",
       "2021-07-22  0.017194  0.002128\n",
       "...              ...       ...\n",
       "2021-11-14 -0.005396  0.000000\n",
       "2021-11-15 -0.014883  0.000466\n",
       "2021-11-16 -0.074852  0.003816\n",
       "2021-11-17  0.016893 -0.002411\n",
       "2021-11-19 -0.064033  0.000000\n",
       "\n",
       "[124 rows x 2 columns]"
      ]
     },
     "execution_count": 17,
     "metadata": {},
     "output_type": "execute_result"
    }
   ],
   "source": [
    "#Create daily returns DF\n",
    "daily_returns_df = stocks_df.pct_change()\n",
    "daily_returns_df"
   ]
  },
  {
   "cell_type": "code",
   "execution_count": 18,
   "metadata": {},
   "outputs": [
    {
     "data": {
      "text/plain": [
       "<AxesSubplot:title={'center':'Density Plot for Daily Returns'}, ylabel='Density'>"
      ]
     },
     "execution_count": 18,
     "metadata": {},
     "output_type": "execute_result"
    },
    {
     "data": {
      "image/png": "[encoded data removed]",
      "text/plain": [
       "<Figure size 432x288 with 1 Axes>"
      ]
     },
     "metadata": {},
     "output_type": "display_data"
    }
   ],
   "source": [
    "#Plot density curves for the portfolio\n",
    "daily_returns_df.plot.density(title=\"Density Plot for Daily Returns\")"
   ]
  },
  {
   "cell_type": "code",
   "execution_count": 19,
   "metadata": {},
   "outputs": [
    {
     "data": {
      "text/html": [
       "<div>\n",
       "<style scoped>\n",
       "    .dataframe tbody tr th:only-of-type {\n",
       "        vertical-align: middle;\n",
       "    }\n",
       "\n",
       "    .dataframe tbody tr th {\n",
       "        vertical-align: top;\n",
       "    }\n",
       "\n",
       "    .dataframe thead th {\n",
       "        text-align: right;\n",
       "    }\n",
       "</style>\n",
       "<table border=\"1\" class=\"dataframe\">\n",
       "  <thead>\n",
       "    <tr style=\"text-align: right;\">\n",
       "      <th></th>\n",
       "      <th>ETH-USD</th>\n",
       "      <th>VOO</th>\n",
       "    </tr>\n",
       "  </thead>\n",
       "  <tbody>\n",
       "    <tr>\n",
       "      <th>ETH-USD</th>\n",
       "      <td>0.471847</td>\n",
       "      <td>0.022720</td>\n",
       "    </tr>\n",
       "    <tr>\n",
       "      <th>VOO</th>\n",
       "      <td>0.022720</td>\n",
       "      <td>0.007763</td>\n",
       "    </tr>\n",
       "  </tbody>\n",
       "</table>\n",
       "</div>"
      ],
      "text/plain": [
       "          ETH-USD       VOO\n",
       "ETH-USD  0.471847  0.022720\n",
       "VOO      0.022720  0.007763"
      ]
     },
     "execution_count": 19,
     "metadata": {},
     "output_type": "execute_result"
    }
   ],
   "source": [
    "#Generate the annualized covariance matrix\n",
    "annual_cov_matrix = daily_returns_df.cov() * 252\n",
    "annual_cov_matrix"
   ]
  },
  {
   "cell_type": "code",
   "execution_count": 20,
   "metadata": {},
   "outputs": [
    {
     "data": {
      "text/plain": [
       "0.13126268591010995"
      ]
     },
     "execution_count": 20,
     "metadata": {},
     "output_type": "execute_result"
    }
   ],
   "source": [
    "#Generate the Portfolio Variance\n",
    "portfolio_variance = np.dot(weights.T, np.dot(annual_cov_matrix, weights))\n",
    "portfolio_variance"
   ]
  },
  {
   "cell_type": "code",
   "execution_count": 22,
   "metadata": {},
   "outputs": [
    {
     "data": {
      "text/plain": [
       "0.13126268591010995"
      ]
     },
     "execution_count": 22,
     "metadata": {},
     "output_type": "execute_result"
    }
   ],
   "source": [
    "#Generate the Risk MAtrix (Std. Deviation OR Volatility)\n",
    "portfolio_volatility = np.sqrt(portfolio_variance)\n",
    "portfolio_variance"
   ]
  },
  {
   "cell_type": "code",
   "execution_count": 23,
   "metadata": {},
   "outputs": [
    {
     "data": {
      "text/plain": [
       "0.9923392617364418"
      ]
     },
     "execution_count": 23,
     "metadata": {},
     "output_type": "execute_result"
    }
   ],
   "source": [
    "#Calculate the Annual Portfolio Return\n",
    "annual_portfolio_return = np.sum(daily_returns_df.mean() * weights) * 252\n",
    "annual_portfolio_return"
   ]
  },
  {
   "cell_type": "code",
   "execution_count": 24,
   "metadata": {},
   "outputs": [
    {
     "name": "stdout",
     "output_type": "stream",
     "text": [
      "Expected Annual Return: 99.0%\n",
      "Annual Volatility: 36.0%\n",
      "Annual Variance: 13.0%\n"
     ]
    }
   ],
   "source": [
    "#Display Expected Annual Return, Volatility (Risk) &  Variance\n",
    "percent_variance = str(round(portfolio_variance, 2) * 100) + '%'\n",
    "percent_volatility = str(round(portfolio_volatility, 2) * 100) + '%'\n",
    "percent_returns = str(round(annual_portfolio_return, 2) * 100) + '%'\n",
    "\n",
    "print('Expected Annual Return: '+ percent_returns)\n",
    "print('Annual Volatility: '+ percent_volatility)\n",
    "print('Annual Variance: '+ percent_variance)"
   ]
  },
  {
   "cell_type": "code",
   "execution_count": 25,
   "metadata": {},
   "outputs": [],
   "source": [
    "#Import libraries from PyPortfolioOpt\n",
    "from pypfopt.efficient_frontier import EfficientFrontier\n",
    "from pypfopt import risk_models\n",
    "from pypfopt import expected_returns\n",
    "#Import modules for plotting\n",
    "import copy\n",
    "from pypfopt import risk_models, exceptions\n",
    "from pypfopt import EfficientFrontier, CLA\n",
    "from pypfopt import plotting\n",
    "import scipy.cluster.hierarchy as sch\n",
    "import warnings"
   ]
  },
  {
   "cell_type": "code",
   "execution_count": 26,
   "metadata": {},
   "outputs": [
    {
     "name": "stdout",
     "output_type": "stream",
     "text": [
      "OrderedDict([('ETH-USD', 0.588), ('VOO', 0.412)])\n",
      "Expected annual return: 224.0%\n",
      "Annual volatility: 41.9%\n",
      "Sharpe Ratio: 5.30\n"
     ]
    },
    {
     "data": {
      "text/plain": [
       "(2.240201869373184, 0.4188818538306251, 5.300305680634527)"
      ]
     },
     "execution_count": 26,
     "metadata": {},
     "output_type": "execute_result"
    }
   ],
   "source": [
    "#Portfolio Optimization for Max Sharpe Ratio\n",
    "#Calculate he expected returs, annualized sample covarinace matrix of asset returns\n",
    "mu = expected_returns.mean_historical_return(stocks_df)\n",
    "S = risk_models.sample_cov(stocks_df)\n",
    "\n",
    "#Optimize for the max Sharpe Ratio\n",
    "ef = EfficientFrontier(mu, S)\n",
    "ef.add_constraint(lambda w: sum(w[0:]) == 1)\n",
    "weights = ef.max_sharpe()\n",
    "cleaned_weights = ef.clean_weights()\n",
    "\n",
    "print(cleaned_weights)\n",
    "ef.portfolio_performance(verbose = True)"
   ]
  },
  {
   "cell_type": "code",
   "execution_count": 27,
   "metadata": {},
   "outputs": [
    {
     "name": "stdout",
     "output_type": "stream",
     "text": [
      "Discrete Allocation: {'ETH-USD': 146, 'VOO': 958}\n",
      "Funds Balance: $1800.88\n"
     ]
    }
   ],
   "source": [
    "#Get the Discrete Allocation  of each share per stock\n",
    "from pypfopt.discrete_allocation import DiscreteAllocation, get_latest_prices\n",
    "\n",
    "latest_prices = get_latest_prices(stocks_df)\n",
    "weights = cleaned_weights\n",
    "\n",
    "da = DiscreteAllocation(weights, latest_prices, total_portfolio_value= 1000000)\n",
    "\n",
    "allocation, leftover = da.lp_portfolio()\n",
    "\n",
    "print('Discrete Allocation:', allocation)\n",
    "print('Funds Balance: ${:.2f}'. format(leftover))"
   ]
  },
  {
   "cell_type": "code",
   "execution_count": 28,
   "metadata": {},
   "outputs": [
    {
     "data": {
      "image/png": "[encoded data removed]",
      "text/plain": [
       "<Figure size 432x288 with 1 Axes>"
      ]
     },
     "metadata": {},
     "output_type": "display_data"
    }
   ],
   "source": [
    "#Plot the Markov Efficient Frontier for Max Sharpe\n",
    "#Portfolio Optimization\n",
    "#Calculate he expected returns, annualized sample covarinace matrix of asset returns\n",
    "mu = expected_returns.mean_historical_return(stocks_df)\n",
    "S = risk_models.sample_cov(stocks_df)\n",
    "\n",
    "#Optimize for the max Sharpe Ratio\n",
    "ef = EfficientFrontier(mu, S)\n",
    "ef.add_constraint(lambda w: sum(w[0:]) == 1)\n",
    "\n",
    "#Plot instance \n",
    "fig, ax = plt.subplots()\n",
    "plotting.plot_efficient_frontier(ef, ax=ax, show_assets=False)\n",
    "\n",
    "#Find the Tangency Portfolio\n",
    "ef.max_sharpe()\n",
    "ret_tangent, std_tangent, _ = ef.portfolio_performance()\n",
    "ax.scatter(std_tangent, ret_tangent, marker=\"*\", s=100, c=\"r\", label=\"Max Sharpe\")\n",
    "\n",
    "\n",
    "# Generate random portfolios\n",
    "n_samples = 10000\n",
    "w = np.random.dirichlet(np.ones(len(mu)), n_samples)\n",
    "rets = w.dot(mu)\n",
    "stds = np.sqrt(np.diag(w @ S @ w.T))\n",
    "sharpes = rets / stds\n",
    "ax.scatter(stds, rets, marker=\".\", c=sharpes, cmap=\"viridis_r\")\n",
    "\n",
    "# Output\n",
    "ax.set_title(\"Efficient Frontier with random portfolios\")\n",
    "ax.legend()\n",
    "plt.tight_layout()\n",
    "plt.savefig(\"ef_scatter.png\", dpi=200)\n",
    "plt.show()"
   ]
  },
  {
   "cell_type": "code",
   "execution_count": 29,
   "metadata": {},
   "outputs": [
    {
     "name": "stdout",
     "output_type": "stream",
     "text": [
      "Discrete Allocation: {'ETH-USD': 146, 'VOO': 958}\n",
      "Funds Balance: $1800.88\n"
     ]
    }
   ],
   "source": [
    "#Get the Discrete Allocation  of each share per stock (Efficient Risk; Volatility =  27.5%)\n",
    "from pypfopt.discrete_allocation import DiscreteAllocation, get_latest_prices\n",
    "\n",
    "latest_prices = get_latest_prices(stocks_df)\n",
    "weights = cleaned_weights\n",
    "\n",
    "da = DiscreteAllocation(weights, latest_prices, total_portfolio_value= 1000000)\n",
    "\n",
    "allocation, leftover = da.lp_portfolio()\n",
    "\n",
    "print('Discrete Allocation:', allocation)\n",
    "print('Funds Balance: ${:.2f}'. format(leftover))"
   ]
  },
  {
   "cell_type": "markdown",
   "metadata": {},
   "source": [
    "## Optimize Portfolio for Min. Risk (Volatility)"
   ]
  },
  {
   "cell_type": "code",
   "execution_count": 30,
   "metadata": {},
   "outputs": [
    {
     "name": "stdout",
     "output_type": "stream",
     "text": [
      "OrderedDict([('ETH-USD', 0.0), ('VOO', 1.0)])\n"
     ]
    }
   ],
   "source": [
    "#Portfolio Optimization\n",
    "#Calculate he expected returs, annualized sample covarinace matrix of asset returns\n",
    "mu = expected_returns.mean_historical_return(stocks_df)\n",
    "S = risk_models.sample_cov(stocks_df)\n",
    "\n",
    "#Optimize for the max Sharpe Ratio\n",
    "ef = EfficientFrontier(mu, S)\n",
    "weights = ef.min_volatility()\n",
    "cleaned_weights = ef.clean_weights()\n",
    "\n",
    "ef.save_weights_to_file(\"weights.txt\")  # saves to file\n",
    "print(cleaned_weights)"
   ]
  },
  {
   "cell_type": "code",
   "execution_count": 31,
   "metadata": {},
   "outputs": [
    {
     "data": {
      "image/png": "[encoded data removed]",
      "text/plain": [
       "<Figure size 432x288 with 1 Axes>"
      ]
     },
     "metadata": {},
     "output_type": "display_data"
    }
   ],
   "source": [
    "# Plot the Markov Efficient Frontier for Min. Risk (Volatility)\n",
    "#Portfolio Optimization\n",
    "#Calculate he expected returns, annualized sample covarinace matrix of asset returns\n",
    "mu = expected_returns.mean_historical_return(stocks_df)\n",
    "S = risk_models.sample_cov(stocks_df)\n",
    "\n",
    "#Optimize for the minimum risk (volatility)\n",
    "ef = EfficientFrontier(mu, S)\n",
    "ef.add_constraint(lambda w: sum(w[0:]) == 1)\n",
    "\n",
    "#Plot instance \n",
    "fig, ax = plt.subplots()\n",
    "plotting.plot_efficient_frontier(ef, ax=ax, show_assets=False)\n",
    "\n",
    "#Find the Tangency Portfolio\n",
    "ef.min_volatility()\n",
    "ret_tangent, std_tangent, _ = ef.portfolio_performance()\n",
    "ax.scatter(std_tangent, ret_tangent, marker=\"*\", s=100, c=\"r\", label=\"Minimum Risk\")\n",
    "\n",
    "\n",
    "# Generate random portfolios\n",
    "n_samples = 10000\n",
    "w = np.random.dirichlet(np.ones(len(mu)), n_samples)\n",
    "rets = w.dot(mu)\n",
    "stds = np.sqrt(np.diag(w @ S @ w.T))\n",
    "sharpes = rets / stds\n",
    "ax.scatter(stds, rets, marker=\".\", c=sharpes, cmap=\"viridis_r\")\n",
    "\n",
    "# Output\n",
    "ax.set_title(\"Efficient Frontier with random portfolios\")\n",
    "ax.legend()\n",
    "plt.tight_layout()\n",
    "plt.savefig(\"ef_scatter.png\", dpi=200)\n",
    "plt.show()"
   ]
  },
  {
   "cell_type": "code",
   "execution_count": 32,
   "metadata": {},
   "outputs": [
    {
     "name": "stdout",
     "output_type": "stream",
     "text": [
      "Discrete Allocation: {'VOO': 2323}\n",
      "Funds Balance: $250.50\n"
     ]
    }
   ],
   "source": [
    "#Get the Discrete Allocation  of each share per stock\n",
    "from pypfopt.discrete_allocation import DiscreteAllocation, get_latest_prices\n",
    "\n",
    "latest_prices = get_latest_prices(stocks_df)\n",
    "weights = cleaned_weights\n",
    "\n",
    "da = DiscreteAllocation(weights, latest_prices, total_portfolio_value= 1000000)\n",
    "\n",
    "allocation, leftover = da.lp_portfolio()\n",
    "\n",
    "print('Discrete Allocation:', allocation)\n",
    "print('Funds Balance: ${:.2f}'. format(leftover))"
   ]
  },
  {
   "cell_type": "markdown",
   "metadata": {},
   "source": [
    "## Optimize portfolio for Efficient Risk (Volatility = 30%)"
   ]
  },
  {
   "cell_type": "code",
   "execution_count": 33,
   "metadata": {},
   "outputs": [
    {
     "name": "stdout",
     "output_type": "stream",
     "text": [
      "OrderedDict([('ETH-USD', 0.3624), ('VOO', 0.6376)])\n"
     ]
    }
   ],
   "source": [
    "#Portfolio Optimization\n",
    "#Calculate he expected returs, annualized sample covarinace matrix of asset returns\n",
    "mu = expected_returns.mean_historical_return(stocks_df)\n",
    "S = risk_models.sample_cov(stocks_df)\n",
    "\n",
    "#Optimize for the max Sharpe Ratio\n",
    "ef = EfficientFrontier(mu, S)\n",
    "weights = ef.efficient_risk(0.275)\n",
    "cleaned_weights = ef.clean_weights()\n",
    "\n",
    "ef.save_weights_to_file(\"weights.txt\")  # saves to file\n",
    "print(cleaned_weights)"
   ]
  },
  {
   "cell_type": "code",
   "execution_count": 34,
   "metadata": {},
   "outputs": [
    {
     "data": {
      "image/png": "[encoded data removed]",
      "text/plain": [
       "<Figure size 432x288 with 1 Axes>"
      ]
     },
     "metadata": {},
     "output_type": "display_data"
    }
   ],
   "source": [
    "#Asset clasifcation for Efficient Risk Portfolio\n",
    "# Plot the Markov Efficient Frontier for Efficient Risk\n",
    "#Portfolio Optimization\n",
    "#Calculate he expected returns, annualized sample covarinace matrix of asset returns\n",
    "mu = expected_returns.mean_historical_return(stocks_df)\n",
    "S = risk_models.sample_cov(stocks_df)\n",
    "\n",
    "#Optimize for the Efficient Risk\n",
    "ef = EfficientFrontier(mu, S)\n",
    "ef.add_constraint(lambda w: sum(w[0:]) == 1)\n",
    "\n",
    "#Plot instance \n",
    "fig, ax = plt.subplots()\n",
    "plotting.plot_efficient_frontier(ef, ax=ax, show_assets=False)\n",
    "\n",
    "#Find the Tangency Portfolio\n",
    "\n",
    "ef.efficient_risk(0.30)\n",
    "ret_tangent, std_tangent, _ = ef.portfolio_performance()\n",
    "ax.scatter(std_tangent, ret_tangent, marker=\"*\", s=100, c=\"r\", label=\"Efficient Risk\")\n",
    "\n",
    "\n",
    "# Generate random portfolios\n",
    "n_samples = 10000\n",
    "w = np.random.dirichlet(np.ones(len(mu)), n_samples)\n",
    "rets = w.dot(mu)\n",
    "stds = np.sqrt(np.diag(w @ S @ w.T))\n",
    "sharpes = rets / stds\n",
    "ax.scatter(stds, rets, marker=\".\", c=sharpes, cmap=\"viridis_r\")\n",
    "\n",
    "# Output\n",
    "ax.set_title(\"Efficient Frontier with random portfolios\")\n",
    "ax.legend()\n",
    "plt.tight_layout()\n",
    "plt.savefig(\"ef_scatter.png\", dpi=200)\n",
    "plt.show()"
   ]
  },
  {
   "cell_type": "code",
   "execution_count": 35,
   "metadata": {},
   "outputs": [
    {
     "name": "stdout",
     "output_type": "stream",
     "text": [
      "Discrete Allocation: {'ETH-USD': 90, 'VOO': 1482}\n",
      "Funds Balance: $1017.56\n"
     ]
    }
   ],
   "source": [
    "#Get the Discrete Allocation  of each share per stock (Efficient Risk; Volatility =  30%\n",
    "from pypfopt.discrete_allocation import DiscreteAllocation, get_latest_prices\n",
    "\n",
    "latest_prices = get_latest_prices(stocks_df)\n",
    "weights = cleaned_weights\n",
    "\n",
    "da = DiscreteAllocation(weights, latest_prices, total_portfolio_value= 1000000)\n",
    "\n",
    "allocation, leftover = da.lp_portfolio()\n",
    "\n",
    "print('Discrete Allocation:', allocation)\n",
    "print('Funds Balance: ${:.2f}'. format(leftover))"
   ]
  }
 ],
 "metadata": {
  "interpreter": {
   "hash": "44f629d02c909ec36a3b87327d683a41340a9f46eb4a746bdb76592f26200118"
  },
  "kernelspec": {
   "display_name": "Python 3.8.8 64-bit ('dev': conda)",
   "name": "python3"
  },
  "language_info": {
   "codemirror_mode": {
    "name": "ipython",
    "version": 3
   },
   "file_extension": ".py",
   "mimetype": "text/x-python",
   "name": "python",
   "nbconvert_exporter": "python",
   "pygments_lexer": "ipython3",
   "version": "3.8.8"
  },
  "orig_nbformat": 4
 },
 "nbformat": 4,
 "nbformat_minor": 2
}
